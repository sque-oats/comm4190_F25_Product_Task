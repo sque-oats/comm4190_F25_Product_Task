{
 "cells": [
  {
   "cell_type": "code",
   "execution_count": 3,
   "id": "0b0caa6b-fd1a-4934-bb3b-1b3a51165a72",
   "metadata": {},
   "outputs": [],
   "source": [
    "import google.generativeai as genai\n",
    "from IPython.display import Image, display, Markdown\n",
    "from dotenv import load_dotenv\n",
    "import os\n",
    "_ = load_dotenv()"
   ]
  },
  {
   "cell_type": "code",
   "execution_count": 8,
   "id": "e4c5819c-0cca-4f22-9a8c-eb8fff6f0672",
   "metadata": {},
   "outputs": [],
   "source": [
    "from openai import OpenAI\n",
    "import os\n",
    "import base64\n",
    "import requests\n",
    "\n",
    "from dotenv import load_dotenv\n",
    "# Load API key\n",
    "_ = load_dotenv()"
   ]
  },
  {
   "cell_type": "code",
   "execution_count": 10,
   "id": "1ea2237b-bfce-445a-8a33-263771bf6109",
   "metadata": {},
   "outputs": [],
   "source": [
    "client = OpenAI()"
   ]
  },
  {
   "cell_type": "code",
   "execution_count": 4,
   "id": "dd8c9afc-32c5-4636-9b05-365d947e9361",
   "metadata": {},
   "outputs": [],
   "source": [
    "genai.configure()"
   ]
  },
  {
   "cell_type": "code",
   "execution_count": 3,
   "id": "9835d10e-88c1-4fa6-81b3-7c672d38fe63",
   "metadata": {},
   "outputs": [],
   "source": [
    "prompt_names = \"\"\"Product description: Solar-powered flashlight that only works in the sun.\n",
    "Product names:\"\"\""
   ]
  },
  {
   "cell_type": "code",
   "execution_count": 4,
   "id": "d091ce4b-e947-4c1b-86ba-bdb1492787e4",
   "metadata": {},
   "outputs": [
    {
     "name": "stdout",
     "output_type": "stream",
     "text": [
      "Okay, here are some product names for a solar-powered flashlight that only works in the sun, categorized by style and tone:\n",
      "\n",
      "**Short & Punchy:**\n",
      "\n",
      "*   SunBeam\n",
      "*   SolarFlash\n",
      "*   Sunlight\n",
      "*   Radiant\n",
      "*   SolLight\n",
      "\n",
      "**Descriptive & Clear:**\n",
      "\n",
      "*   SolarSunlight Flashlight\n",
      "*   The Sun-Powered Flash\n",
      "*   Solar Powered Illumination\n",
      "*   Bright Sun Flash\n",
      "*   Solar & Shining Flash\n",
      "\n",
      "**Creative & Evocative:**\n",
      "\n",
      "*   Golden Hour Flash\n",
      "*   Sunstone Light\n",
      "*   Solar Dawn\n",
      "*   SunKissed Flash\n",
      "*   Radiant Sol\n",
      "\n",
      "**Premium/Stylish:**\n",
      "\n",
      "*   Solar Zenith\n",
      "*   Solar Eclipse (a bit cheeky, but memorable)\n",
      "*   Solar Ascent\n",
      "*   Sunstone Pro\n",
      "\n",
      "**My Top Recommendations (balancing clarity and appeal):**\n",
      "\n",
      "1.  **SolarSunlight Flashlight:** Simple, descriptive, and easy to remember.\n",
      "2.  **SolarFlash:** Short, catchy, and clearly communicates the product's function.\n",
      "3.  **Bright Sun Flash:**  Evokes a feeling of warmth and light.\n",
      "\n",
      "To help me narrow it down further, could you tell me:\n",
      "\n",
      "*   **What's the target audience?** (e.g., outdoor enthusiasts, travelers, campers, budget-conscious buyers?)\n",
      "*   **What's the overall brand aesthetic?** (e.g., rugged, modern, eco-friendly, playful?)\n"
     ]
    }
   ],
   "source": [
    "model = genai.GenerativeModel(model_name=\"models/gemma-3-1b-it\")\n",
    "\n",
    "response = model.generate_content([prompt_names])\n",
    "\n",
    "print(response.text)"
   ]
  },
  {
   "cell_type": "code",
   "execution_count": 1,
   "id": "2c225906-6a19-4fae-a713-c60c7ff2ccf2",
   "metadata": {},
   "outputs": [],
   "source": [
    "prompt_need = \"\"\"Product description: Solar-powered flashlight that only works in the sun.\n",
    "Why does this product exist? What is the need? Provide several needs in bullet point list form. Take an imaginative tone. \"\"\""
   ]
  },
  {
   "cell_type": "code",
   "execution_count": 5,
   "id": "7388ec24-c0ac-44cb-8571-ed3e9ea610f5",
   "metadata": {},
   "outputs": [
    {
     "name": "stdout",
     "output_type": "stream",
     "text": [
      "Okay, here’s a product description and a breakdown of the needs behind a “Solar-Powered Flashlight – Only in the Sun” product, presented with an imaginative tone:\n",
      "\n",
      "---\n",
      "\n",
      "**Product Description:**\n",
      "\n",
      "“The Sun Weaver” isn’t just a flashlight. It’s a whisper of hope, a tiny spark against the encroaching darkness. Crafted from polished moonstone and imbued with the warmth of a thousand sunbeams, this flashlight offers a unique solution to a surprisingly pervasive problem: the struggle for illumination. Forget batteries, forget power outages – the Sun Weaver harnesses the boundless energy of the sun, delivering a steady, reliable glow *only* when the heavens align. \n",
      "\n",
      "Imagine a world where a sudden storm rolls in, plunging your campsite into blackness.  Where a lost hiker needs a beacon to guide them home. Where a traveler needs a quick, discreet light to navigate a dimly lit path.  The Sun Weaver is designed to be your silent guardian, a dependable companion in moments of uncertainty. \n",
      "\n",
      "It’s more than just a light; it’s a promise – a promise of resilience, of quiet confidence, and of a little bit of magic in the face of the unknown.”\n",
      "\n",
      "---\n",
      "\n",
      "**Why Does This Product Exist? – The Needs It Addresses**\n",
      "\n",
      "Let’s dive into the *why* behind this unusual creation. Here’s a breakdown of the needs it’s fulfilling:\n",
      "\n",
      "*   **Safety & Security:**  The primary need is simple – safety.  People need reliable light sources, especially in situations where visibility is compromised – hiking, camping, exploring, or even just walking home at night.  A sudden darkness can be terrifying, and a flashlight is a crucial safety tool.\n",
      "\n",
      "*   **Disaster Preparedness:**  Think about the aftermath of a natural disaster – earthquakes, floods, or even just a severe storm.  People need a way to illuminate their homes and find their way after the initial chaos.  A solar-powered flashlight offers a crucial backup power source.\n",
      "\n",
      "*   **Remote Exploration & Adventure:**  Hikers, climbers, and explorers often venture into remote areas where cell service is nonexistent.  A flashlight provides a vital sense of security and allows them to navigate safely. \n",
      "\n",
      "*   **Emergency Situations:**  Lost hikers, stranded travelers, or anyone in a situation where immediate light is needed – a sudden fog, a broken power line, or simply a need for a quick, discreet glow – all demand a reliable light source. \n",
      "\n",
      "*   **Mental Wellbeing:**  Darkness can be isolating and unsettling.  A small, consistent light source can provide a sense of comfort and reduce anxiety, especially for those who struggle with nighttime fears. \n",
      "\n",
      "*   **Rural Living & Off-Grid Communities:**  In areas with limited access to electricity, a solar-powered flashlight becomes an indispensable tool for basic needs – lighting a path, providing a sense of security, and ensuring safety. \n",
      "\n",
      "*   **Unique & Novelty:** Let's be honest, it’s a conversation starter!  People are drawn to unique and intriguing products. The \"only in the sun\" concept adds a layer of mystique and appeals to those who appreciate a touch of wonder. \n",
      "\n",
      "---\n",
      "\n",
      "Do you want me to flesh out any of these needs further, or perhaps explore a specific aspect of the product in more detail?\n"
     ]
    }
   ],
   "source": [
    "model = genai.GenerativeModel(model_name=\"models/gemma-3-1b-it\")\n",
    "\n",
    "response = model.generate_content([prompt_need])\n",
    "\n",
    "print(response.text)"
   ]
  },
  {
   "cell_type": "code",
   "execution_count": 27,
   "id": "e7c0e931-1198-41fd-93b9-1991b58a6690",
   "metadata": {},
   "outputs": [],
   "source": [
    "prompt_vibe = \"\"\"Product description: Solar-powered flashlight that ONLY works in the sun with the name \"Lumina\". Target audience: women. Need: for women to use and flash in \n",
    "the eyes of guys coming onto them during the day such as cat-callers. \n",
    "Give me a description in the form of a short paragraph, with a confident and empowering tone.\"\"\""
   ]
  },
  {
   "cell_type": "code",
   "execution_count": 29,
   "id": "8d7e21b1-7ef8-4267-98ed-e625d6092f8c",
   "metadata": {},
   "outputs": [
    {
     "name": "stdout",
     "output_type": "stream",
     "text": [
      "Okay, here are a few options for a product description, aiming for a confident and empowering tone, tailored to your specific needs, and suitable for a women’s target audience:\n",
      "\n",
      "**Option 1 (More direct):**\n",
      "\n",
      "“Don’t let the shadows dictate your confidence. Introducing Lumina – the solar-powered flashlight designed specifically for you.  Finally, a light that’s as powerful as you are, and as discreet as you need it to be.  Lumina shines only when the sun is out, offering a brilliant, unwavering beam to deter unwanted attention and reclaim your space.  Own your power, own your confidence, and let Lumina illuminate your path.”\n",
      "\n",
      "**Option 2 (Slightly more evocative):**\n",
      "\n",
      "“Let Lumina be your shield.  Designed with a woman in mind, this solar-powered flashlight isn’t about brightness, it’s about presence.  It’s about projecting strength and unwavering confidence, a silent declaration that you’re not to be underestimated.  When the sun shines, Lumina delivers a focused, protective beam – perfect for deterring unwelcome advances and ensuring your peace of mind.  Finally, a light that’s truly yours.”\n",
      "\n",
      "**Option 3 (Concise & impactful):**\n",
      "\n",
      "“Lumina: Illuminate your power.  This solar-powered flashlight is engineered for women who deserve to feel safe and confident.  It only works when the sun is shining, delivering a brilliant, unwavering light to deflect unwanted attention and empower you to own your space.  Don’t just shine – dominate.”\n",
      "\n",
      "---\n",
      "\n",
      "**To help me refine the description even further, could you tell me:**\n",
      "\n",
      "*   **What is the overall aesthetic of the flashlight?** (e.g., sleek and modern, bohemian, minimalist?)\n",
      "*   **What is the specific feeling you want to evoke?** (e.g., fierce, resilient, powerful, independent?)\n"
     ]
    }
   ],
   "source": [
    "model = genai.GenerativeModel(model_name=\"models/gemma-3-1b-it\")\n",
    "\n",
    "response = model.generate_content([prompt_vibe])\n",
    "\n",
    "print(response.text)"
   ]
  },
  {
   "cell_type": "code",
   "execution_count": 36,
   "id": "43bed0ec-1228-4eb3-9328-9eed1002d15b",
   "metadata": {},
   "outputs": [],
   "source": [
    "prompt_price = \"\"\"Product description: Solar-powered flashlight that ONLY works in the sun with the name \"Lumina\". Target audience: women. Need: women and self-defense\n",
    "Give me options for the price of this product. I want this product to be high-quality BUT affordable and accessible for all women.\"\"\""
   ]
  },
  {
   "cell_type": "code",
   "execution_count": 37,
   "id": "be96b0db-087c-447f-a564-7d123f1f546f",
   "metadata": {},
   "outputs": [
    {
     "name": "stdout",
     "output_type": "stream",
     "text": [
      "Okay, let’s brainstorm some price points for the “Lumina” solar flashlight, keeping in mind your target audience (women, self-defense focus), high-quality feel, and accessibility. Here's a breakdown of options, categorized by price range, with explanations of why each works:\n",
      "\n",
      "**1. The \"Accessible & Reliable\" - $39 - $59**\n",
      "\n",
      "* **Concept:** This is the sweet spot for affordability and a strong foundation of quality. It’s designed to be a reliable, everyday tool.\n",
      "* **Features:**\n",
      "    * **High-Quality Solar Panel:**  A durable, efficient solar panel (likely with a good warranty) – around 10-15 watts.\n",
      "    * **Bright LED Light:**  A bright, focused LED with adjustable brightness settings.\n",
      "    * **Durable Housing:**  A sturdy, weather-resistant plastic or aluminum casing.\n",
      "    * **Simple, User-Friendly Design:**  Easy to operate – just point and click.\n",
      "    * **Battery Life:**  A decent battery life (e.g., 6-8 hours of continuous use).\n",
      "    * **Charging Cable:**  A USB-C charging cable.\n",
      "* **Marketing Angle:** \"Lumina: Your reliable light, powered by the sun.  Peace of mind, without breaking the bank.\"  Focus on practicality and safety.\n",
      "* **Price Range:** $39 - $59\n",
      "\n",
      "**2. The \"Mid-Range - Confidence & Protection\" - $69 - $89**\n",
      "\n",
      "* **Concept:**  This elevates the product slightly, adding a bit more premium feel and subtly reinforcing the self-defense aspect.\n",
      "* **Features:**\n",
      "    * **Premium Solar Panel:**  A slightly larger, more efficient solar panel (15-20 watts).\n",
      "    * **Enhanced LED:**  A brighter, more directional LED with a slightly warmer color temperature (e.g., amber or a softer white).\n",
      "    * **Tactile Grip:**  A textured grip for better handling.\n",
      "    * **Water-Resistant Housing:**  A slightly more robust, water-resistant casing.\n",
      "    * **Optional Protective Cover:** A small, easily removable protective cover for the LED.\n",
      "* **Marketing Angle:** \"Lumina:  More than just a light.  A tool for empowerment.  Stay safe, stay visible.\"  Highlighting the added security element.\n",
      "* **Price Range:** $69 - $89\n",
      "\n",
      "**3. The \"Premium - Style & Security\" - $99 - $129**\n",
      "\n",
      "* **Concept:**  This is for the woman who wants a stylish, well-built flashlight that feels substantial and is a statement piece.\n",
      "* **Features:**\n",
      "    * **High-Quality Solar Panel:**  A larger, more efficient solar panel (20-25 watts).\n",
      "    * **Advanced LED:**  A high-brightness, directional LED with a color-changing option (e.g., a subtle pulse effect).\n",
      "    * **Premium Housing:**  A sleek, minimalist design with a matte finish.\n",
      "    * **Integrated Safety Features:**  A small, discreet button for a quick SOS signal (optional).\n",
      "    * **Longer Battery Life:**  Up to 12-16 hours of continuous use.\n",
      "* **Marketing Angle:** \"Lumina:  Illuminate your strength.  Designed for confidence, crafted for safety.\"  Emphasize the aesthetic appeal and the feeling of security.\n",
      "* **Price Range:** $99 - $129\n",
      "\n",
      "**Important Considerations for All Price Points:**\n",
      "\n",
      "* **Packaging:**  High-quality, eco-friendly packaging is crucial for a premium brand.\n",
      "* **Warranty:**  A generous warranty (1-year or longer) builds trust and reduces risk for the customer.\n",
      "* **Customer Service:**  Excellent customer service is vital for building a loyal following, especially within a niche like self-defense.\n",
      "* **Color Options:** Offer a range of colors to appeal to different tastes.\n",
      "\n",
      "**To help me refine these options further and give you even more tailored suggestions, could you tell me:**\n",
      "\n",
      "*   **What is the primary \"self-defense\" focus of the product?** (e.g., deterring potential attackers, providing a subtle warning signal, etc.)\n",
      "*   **What is the overall aesthetic you're aiming for?** (e.g., minimalist, rugged, stylish, etc.)\n",
      "*   **What is the size and weight you're envisioning for the flashlight?** (e.g., pocket-sized, larger, etc.)\n"
     ]
    }
   ],
   "source": [
    "model = genai.GenerativeModel(model_name=\"models/gemma-3-1b-it\")\n",
    "\n",
    "response = model.generate_content([prompt_price])\n",
    "\n",
    "print(response.text)"
   ]
  },
  {
   "cell_type": "code",
   "execution_count": 38,
   "id": "bda471ad-0f3c-4ebb-9575-e5717bae4fec",
   "metadata": {},
   "outputs": [],
   "source": [
    "prompt_features = \"\"\"Product description: Solar-powered flashlight that ONLY works in the sun with the name \"Lumina\". Target audience: women. Need: women and self-defense\n",
    "Light brightness: iPhone flash while taking picture. What are some useful features that we can market on for such a device?\"\"\""
   ]
  },
  {
   "cell_type": "code",
   "execution_count": 39,
   "id": "2a07669a-68aa-467c-9074-b420bf91ea49",
   "metadata": {},
   "outputs": [
    {
     "name": "stdout",
     "output_type": "stream",
     "text": [
      "Okay, let's brainstorm some features for the \"Lumina\" solar flashlight, specifically tailored for women and focusing on self-defense and empowerment. Here's a breakdown, categorized by importance and potential marketing angles:\n",
      "\n",
      "**1. Core Functionality - High Priority (Must Highlight)**\n",
      "\n",
      "* **Solar Power & Reliability:** This is *critical*. Emphasize the long-lasting battery life and how it’s powered solely by sunlight. \"Never run out of light, *ever*.\"  Showcase the charging indicator – a clear, visually appealing display of battery level.\n",
      "* **Bright, Focused Beam:**  Don't just say \"bright.\"  Describe the beam's characteristics: \"A powerful, focused beam that cuts through shadows,\" \"Reduces glare,\" \"Provides clear visibility in low light conditions.\"  Consider a visual demonstration (video) showing this.\n",
      "* **Durable & Weather-Resistant:** Women often face unpredictable environments. Highlight the flashlight's ruggedness – water-resistant, dustproof, and impact-resistant.  \"Built to withstand your adventures.\"\n",
      "\n",
      "**2. Self-Defense & Security Features (High Priority - Leverage Women's Concerns)**\n",
      "\n",
      "* **\"Shadow Blend\" Mode:** This is *key*.  Describe a mode that subtly adjusts the flashlight's beam to minimize its visibility in shadows, making it harder for potential attackers to see you. \"Blend into the darkness – harder to track.\"  This is a significant selling point.\n",
      "* **Red-Shifted Beam (Optional, Requires Careful Marketing):**  A subtle, almost imperceptible shift in the beam's color towards red could make it harder to see in low light, mimicking the effect of a red light. *Important:  This needs to be handled delicately and clearly explained as a safety feature, not a gimmick.*  \"Red light – harder to see in the dark.\"\n",
      "* **Emergency SOS Button:** A button that, when pressed, emits a short, bright flash and can be used to signal for help.  \"Peace of mind, instantly.\"\n",
      "* **Compact & Discreet Design:** Women often prioritize practicality and style.  The flashlight should be small and easily carried, not bulky.\n",
      "\n",
      "**3. Empowerment & Confidence Features (Medium Priority - Build Emotional Connection)**\n",
      "\n",
      "* **\"Own Your Space\" Messaging:**  Subtly incorporate phrases like \"Take control,\" \"Be prepared,\" \"Confidence in every situation.\"\n",
      "* **Stylish Design Options:** Offer a range of colors and finishes that appeal to women's tastes.  Consider sleek, minimalist designs or bolder, more vibrant options.\n",
      "* **Motivational Quote Display:**  A small, customizable display that shows a positive, empowering message (e.g., \"You are strong,\" \"You are capable\").\n",
      "* **\"Guardian\" Branding:**  A subtle logo or tagline that conveys protection and security.\n",
      "\n",
      "**4.  Additional Features (Consider Based on Budget & Market)**\n",
      "\n",
      "* **USB Rechargeable:**  Highlight the convenience of recharging via USB.\n",
      "* **LED Light – Multiple Modes:** Offer different brightness levels for various situations (e.g., low light, nighttime walk, emergency).\n",
      "* **Waterproof Housing:**  A truly waterproof housing is a huge selling point for outdoor activities and emergencies.\n",
      "\n",
      "**Marketing Angles to Focus On:**\n",
      "\n",
      "* **\"Safety First, Style Matters\":**  Position the flashlight as a tool for women to feel safe and confident in any situation.\n",
      "* **\"Don't Just Light Up – Protect Yourself\":**  Frame the flashlight as a proactive security measure.\n",
      "* **\"Empower Your Day\":** Connect the flashlight to a feeling of self-reliance and control.\n",
      "* **Social Media Focus:**  Showcase the flashlight in action – women using it for self-defense, hiking, or navigating unfamiliar areas.\n",
      "\n",
      "**Important Considerations:**\n",
      "\n",
      "* **Safety Certifications:**  Ensure the flashlight meets relevant safety standards (IP rating, etc.).\n",
      "* **Clear Labeling:**  Clearly state the flashlight's capabilities and limitations.  Don't overpromise.\n",
      "* **Realistic Expectations:**  While the flashlight offers enhanced security, it's not a replacement for proper self-defense training.\n",
      "\n",
      "To help me refine these ideas further, could you tell me:\n",
      "\n",
      "*   **What is the price point of the flashlight?** (This will influence the features we can realistically include.)\n",
      "*   **What is the primary target environment for this flashlight?** (e.g., urban areas, hiking, camping, travel?)\n"
     ]
    }
   ],
   "source": [
    "model = genai.GenerativeModel(model_name=\"models/gemma-3-1b-it\")\n",
    "\n",
    "response = model.generate_content([prompt_features])\n",
    "\n",
    "print(response.text)"
   ]
  },
  {
   "cell_type": "code",
   "execution_count": 12,
   "id": "3859e278-6dae-4b2a-98f9-3d57109c0829",
   "metadata": {},
   "outputs": [],
   "source": [
    "prompt_logos = \"\"\"Product description: Solar-powered flashlight that ONLY works in the sun with the name \"Lumina\". Target audience: women. Need: women and self-defense\n",
    "Light brightness: iPhone flash while taking picture. I want this product to be high-quality BUT affordable and accessible for all women. Create an image of a simple logo for this product.\"\"\""
   ]
  },
  {
   "cell_type": "code",
   "execution_count": 13,
   "id": "e431fdcf-9b02-4265-bb7c-a6730a4c63a6",
   "metadata": {},
   "outputs": [],
   "source": [
    "response = client.images.generate(\n",
    "  model=\"dall-e-3\",\n",
    "  prompt=prompt_logos,\n",
    "  size=\"1024x1024\",\n",
    "  quality=\"standard\",\n",
    "  n=1,\n",
    ")\n",
    "\n",
    "image_url = response.data[0].url\n",
    "\n",
    "generated_image = requests.get(image_url)\n",
    "\n",
    "with open('SimpleLogo.png', 'wb') as out:\n",
    "    out.write(generated_image.content)"
   ]
  },
  {
   "cell_type": "code",
   "execution_count": 14,
   "id": "ec55e64b-bec1-4725-a0f6-c3bddff0923d",
   "metadata": {},
   "outputs": [],
   "source": [
    "prompt_reviews = \"\"\"Product description: Solar-powered flashlight that ONLY works in the sun with the name \"Lumina\". Target audience: women. Need: women and self-defense\n",
    "Light brightness: iPhone flash while taking picture. I want this product to be high-quality BUT affordable and accessible for all women.\n",
    "Generate two positive reviews and one professional endorsement.\"\"\""
   ]
  },
  {
   "cell_type": "code",
   "execution_count": 15,
   "id": "ce35588f-3b33-45de-b7d8-95b9ef3ea4b2",
   "metadata": {},
   "outputs": [
    {
     "name": "stdout",
     "output_type": "stream",
     "text": [
      "Okay, here are two positive reviews and one professional endorsement for the “Lumina” solar-powered flashlight, tailored to your specifications – focusing on women, self-defense, high quality, affordability, and accessibility.\n",
      "\n",
      "**Review 1: (Sarah, 35, Freelance Designer)**\n",
      "\n",
      "“Okay, I’m officially obsessed with the Lumina! Seriously, this is a game-changer. As a freelance designer, I’m constantly on the go, and my phone battery drains *fast*. This flashlight is a lifesaver. The fact that it only works when the sun is shining is brilliant – it’s incredibly practical and doesn’t require a wall socket. I love that it mimics an iPhone flash when I take a picture – it’s a subtle, reassuring signal.  It’s surprisingly bright, and the build quality feels really solid.  I was worried it would be flimsy, but it’s surprisingly durable.  It’s affordable enough to justify the investment, and it’s given me such peace of mind, especially when I’m working late or walking alone.  Highly recommend it for anyone who needs a reliable, discreet light source – and a little bit of empowerment!”\n",
      "\n",
      "**Review 2: (Maria, 28, Small Business Owner)**\n",
      "\n",
      "“I’ve been looking for a flashlight that’s both powerful and practical, and the Lumina delivers! I’m a small business owner, and safety is always a top priority. This isn’t just a flashlight; it’s a tool. The solar charging is fantastic – I can trust it to keep me lit when I’m out and about, even on cloudy days.  The brightness is perfect for navigating dark streets or signaling for help.  I was really impressed with the iPhone flash feature – it’s a subtle but effective way to deter potential threats.  And honestly, it’s just a really well-made flashlight at a reasonable price.  It’s a small investment that provides a significant sense of security.  I’m so glad I found the Lumina!”\n",
      "\n",
      "**Professional Endorsement – From Eleanor Vance, Owner of “SafeStride Security” (Security Consulting Firm)**\n",
      "\n",
      "“As a security consultant, I’m constantly seeking solutions that offer both functionality and peace of mind. The Lumina solar flashlight is a truly innovative product. It’s not just a light; it’s a proactive safety tool.  The ability to utilize the iPhone flash function, coupled with the reliable solar charging, provides a discreet and empowering way for women to feel more secure.  The high-quality construction and bright illumination are a testament to thoughtful design.  We’ve seen women using this flashlight to deter potential threats, and the feeling of confidence it provides is invaluable.  The affordability makes it accessible to a wide range of women, and the design is sleek and modern – it’s a product that aligns with the values of a modern, independent woman.  We believe the Lumina represents a significant step forward in women’s self-defense and security.  We’re excited to partner with [Company Name] to further promote this product.”\n",
      "\n",
      "\n",
      "---\n",
      "\n",
      "**To help me refine these further, could you tell me:**\n",
      "\n",
      "*   **What is the price range you're aiming for?** (e.g., under $30, $30-$60, etc.)\n",
      "*   **What specific types of self-defense situations are you envisioning this flashlight being useful for?** (e.g., walking alone at night, navigating unfamiliar areas, deterring potential attackers)\n"
     ]
    }
   ],
   "source": [
    "model = genai.GenerativeModel(model_name=\"models/gemma-3-1b-it\")\n",
    "\n",
    "response = model.generate_content([prompt_reviews])\n",
    "\n",
    "print(response.text)"
   ]
  },
  {
   "cell_type": "code",
   "execution_count": null,
   "id": "70b35863-2828-4b02-87aa-847110c44587",
   "metadata": {},
   "outputs": [],
   "source": []
  }
 ],
 "metadata": {
  "kernelspec": {
   "display_name": "Python 3-12 (COMM4190)",
   "language": "python",
   "name": "python3-12_comm4190"
  },
  "language_info": {
   "codemirror_mode": {
    "name": "ipython",
    "version": 3
   },
   "file_extension": ".py",
   "mimetype": "text/x-python",
   "name": "python",
   "nbconvert_exporter": "python",
   "pygments_lexer": "ipython3",
   "version": "3.12.11"
  }
 },
 "nbformat": 4,
 "nbformat_minor": 5
}
