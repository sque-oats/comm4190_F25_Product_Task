{
 "cells": [
  {
   "cell_type": "markdown",
   "id": "d6101a6a-13a6-4a87-96fc-d9cc968380be",
   "metadata": {},
   "source": [
    "# **LUMINA**\n",
    "# *Shine Bright. Own the Moment.*"
   ]
  },
  {
   "cell_type": "markdown",
   "id": "cac4745e-3baa-43e7-9682-ea000e71a3c4",
   "metadata": {},
   "source": [
    "## Illuminate your power.  This solar-powered flashlight is engineered for women who deserve to feel safe and confident.  It only works when the sun is shining, delivering a brilliant, unwavering light to deflect unwanted attention and empower you to own your space.  Don’t just shine – dominate."
   ]
  },
  {
   "cell_type": "markdown",
   "id": "31a46ec7-3c27-4b8a-9ae3-43fdf104e376",
   "metadata": {},
   "source": [
    "![Lumina Product and Logo](LuminaDefenseProduct.png)"
   ]
  },
  {
   "cell_type": "markdown",
   "id": "edfbf3a5-ab64-47ef-92a6-ab1f3c6c91de",
   "metadata": {},
   "source": [
    "## Our Features"
   ]
  },
  {
   "cell_type": "markdown",
   "id": "b44a908d-3c0d-4a62-a7f0-884335603715",
   "metadata": {},
   "source": [
    "* **High-Quality Solar Panel:**  A durable, efficient solar panel (likely with a good warranty) – around 10-15 watts. <br>\n",
    "* **Bright LED Light:**  A bright, focused LED with adjustable brightness settings. <br>\n",
    "* **Durable Housing:**  A sturdy, weather-resistant plastic or aluminum casing. <br>\n",
    "* **Simple, User-Friendly Design:**  Easy to operate – just point and click. <br>\n",
    "* **Battery Life:**  A decent battery life (e.g., 6-8 hours of continuous use). <br>\n",
    "* **Charging Cable:**  A USB-C charging cable. <br>\n",
    "* **Affordable:** Price is $39.99, enabling women from all walks of life to defend themselves!"
   ]
  },
  {
   "cell_type": "markdown",
   "id": "853662d8-9ba8-4cea-9c84-3204fd4a4c92",
   "metadata": {},
   "source": [
    "## Consumers Love Our Product!"
   ]
  },
  {
   "cell_type": "markdown",
   "id": "4c247967-e33e-4186-a3e3-62f5ad81de1e",
   "metadata": {},
   "source": [
    "**Review 1: (Sarah, 35, Freelance Designer)** <br>\n",
    "<br>\n",
    "> “Okay, I’m officially obsessed with the Lumina! Seriously, this is a game-changer. As a freelance designer, I’m constantly on the go, and my phone battery drains *fast*. This flashlight is a lifesaver. The fact that it only works when the sun is shining is brilliant – it’s incredibly practical and doesn’t require a wall socket. I love that it mimics an iPhone flash when I take a picture – it’s a subtle, reassuring signal.  It’s surprisingly bright, and the build quality feels really solid.  I was worried it would be flimsy, but it’s surprisingly durable.  It’s affordable enough to justify the investment, and it’s given me such peace of mind, especially when I’m working late or walking alone.  Highly recommend it for anyone who needs a reliable, discreet light source – and a little bit of empowerment!”\n",
    "\n",
    "**Review 2: (Maria, 28, Small Business Owner)** <br> <br>\n",
    "\n",
    "> “I’ve been looking for a flashlight that’s both powerful and practical, and the Lumina delivers! I’m a small business owner, and safety is always a top priority. This isn’t just a flashlight; it’s a tool. The solar charging is fantastic – I can trust it to keep me lit when I’m out and about, even on cloudy days.  The brightness is perfect for navigating dark streets or signaling for help.  I was really impressed with the iPhone flash feature – it’s a subtle but effective way to deter potential threats.  And honestly, it’s just a really well-made flashlight at a reasonable price.  It’s a small investment that provides a significant sense of security.  I’m so glad I found the Lumina!”\n",
    "\n",
    "**Professional Endorsement – From Eleanor Vance, Owner of “SafeStride Security” (Security Consulting Firm)** <br> <br>\n",
    "\n",
    "> “As a security consultant, I’m constantly seeking solutions that offer both functionality and peace of mind. The Lumina solar flashlight is a truly innovative product. It’s not just a light; it’s a proactive safety tool.  The ability to utilize the iPhone flash function, coupled with the reliable solar charging, provides a discreet and empowering way for women to feel more secure.  The high-quality construction and bright illumination are a testament to thoughtful design.  We’ve seen women using this flashlight to deter potential threats, and the feeling of confidence it provides is invaluable.  The affordability makes it accessible to a wide range of women, and the design is sleek and modern – it’s a product that aligns with the values of a modern, independent woman.  We believe the Lumina represents a significant step forward in women’s self-defense and security.  We’re excited to partner with [Company Name] to further promote this product.”"
   ]
  },
  {
   "cell_type": "code",
   "execution_count": null,
   "id": "8fb7cd5b-1b05-4627-9a7c-cc4f5af96a3b",
   "metadata": {},
   "outputs": [],
   "source": []
  }
 ],
 "metadata": {
  "kernelspec": {
   "display_name": "Python 3-12 (COMM4190)",
   "language": "python",
   "name": "python3-12_comm4190"
  },
  "language_info": {
   "codemirror_mode": {
    "name": "ipython",
    "version": 3
   },
   "file_extension": ".py",
   "mimetype": "text/x-python",
   "name": "python",
   "nbconvert_exporter": "python",
   "pygments_lexer": "ipython3",
   "version": "3.12.11"
  }
 },
 "nbformat": 4,
 "nbformat_minor": 5
}
